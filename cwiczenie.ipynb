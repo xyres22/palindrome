{
 "cells": [
  {
   "cell_type": "markdown",
   "id": "b319e451-4aa6-4296-99ad-c729f8e505c0",
   "metadata": {},
   "source": [
    "Funkcje tworzymy uzywajac slowa def(): i w kolejnej lini wpisujemy juz tresc"
   ]
  },
  {
   "cell_type": "code",
   "execution_count": 2,
   "id": "77b5f6c9-f739-47d9-ab30-f1c0b8b00849",
   "metadata": {},
   "outputs": [],
   "source": [
    "def functions(a,b):\n",
    "    return a+b"
   ]
  },
  {
   "cell_type": "markdown",
   "id": "daca988d-e67d-4509-87cf-77e776f4148f",
   "metadata": {},
   "source": [
    "Teraz zeby wywolac funckje musimy wpisac przepisac functions(,a,b) oraz w miesjach a i b wpisac dane. Np a=3 b=4"
   ]
  },
  {
   "cell_type": "code",
   "execution_count": 4,
   "id": "4816b009-8ac4-4e70-b665-cf3c1298e6f8",
   "metadata": {},
   "outputs": [
    {
     "data": {
      "text/plain": [
       "7"
      ]
     },
     "execution_count": 4,
     "metadata": {},
     "output_type": "execute_result"
    }
   ],
   "source": [
    "functions(3,4)"
   ]
  },
  {
   "cell_type": "code",
   "execution_count": null,
   "id": "314bf664-81b0-4d35-b1b9-30fd46eab12f",
   "metadata": {},
   "outputs": [],
   "source": []
  }
 ],
 "metadata": {
  "kernelspec": {
   "display_name": "Python 3 (ipykernel)",
   "language": "python",
   "name": "python3"
  },
  "language_info": {
   "codemirror_mode": {
    "name": "ipython",
    "version": 3
   },
   "file_extension": ".py",
   "mimetype": "text/x-python",
   "name": "python",
   "nbconvert_exporter": "python",
   "pygments_lexer": "ipython3",
   "version": "3.9.7"
  }
 },
 "nbformat": 4,
 "nbformat_minor": 5
}
